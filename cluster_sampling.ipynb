{
 "cells": [
  {
   "cell_type": "code",
   "execution_count": 5,
   "id": "eaabc50a",
   "metadata": {},
   "outputs": [
    {
     "name": "stdout",
     "output_type": "stream",
     "text": [
      "    employee_id     value\n",
      "0             1  0.999732\n",
      "1             2 -0.271382\n",
      "2             3  1.882073\n",
      "3             4 -1.042782\n",
      "4             5  0.315247\n",
      "5             6  0.083680\n",
      "6             7 -0.016974\n",
      "7             8  0.679182\n",
      "8             9  0.377532\n",
      "9            10 -2.154020\n",
      "10           11  0.713688\n",
      "11           12  1.358650\n",
      "12           13 -0.747865\n",
      "13           14  0.362543\n",
      "14           15  0.033782\n",
      "15           16 -0.479022\n",
      "16           17  0.248935\n",
      "17           18  2.070671\n",
      "18           19 -0.358093\n",
      "19           20  0.828640\n"
     ]
    }
   ],
   "source": [
    "# Import package\n",
    "import pandas as pd\n",
    "import numpy as np\n",
    "\n",
    "# Buta data employee\n",
    "dic_data = {'employee_id':np.arange(1,21), 'value':np.random.randn(20)}\n",
    "\n",
    "# Masukan data employee ke data frame\n",
    "df = pd.DataFrame(dic_data)\n",
    "print(df)\n"
   ]
  },
  {
   "cell_type": "code",
   "execution_count": 6,
   "id": "feab369d",
   "metadata": {},
   "outputs": [
    {
     "name": "stdout",
     "output_type": "stream",
     "text": [
      "    employee_id     value\n",
      "3             4 -1.042782\n",
      "4             5  0.315247\n",
      "11           12  1.358650\n",
      "12           13 -0.747865\n"
     ]
    }
   ],
   "source": [
    "# Buat sample berdasarkan employee_id\n",
    "samples = df.sample(4).sort_values(by='employee_id')\n",
    "  \n",
    "# Tampilkan hasil\n",
    "print(samples)"
   ]
  },
  {
   "cell_type": "code",
   "execution_count": null,
   "id": "7d184632",
   "metadata": {},
   "outputs": [],
   "source": []
  }
 ],
 "metadata": {
  "kernelspec": {
   "display_name": "Python 3 (ipykernel)",
   "language": "python",
   "name": "python3"
  },
  "language_info": {
   "codemirror_mode": {
    "name": "ipython",
    "version": 3
   },
   "file_extension": ".py",
   "mimetype": "text/x-python",
   "name": "python",
   "nbconvert_exporter": "python",
   "pygments_lexer": "ipython3",
   "version": "3.10.7"
  }
 },
 "nbformat": 4,
 "nbformat_minor": 5
}
